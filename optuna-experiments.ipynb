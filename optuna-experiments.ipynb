{
 "cells": [
  {
   "cell_type": "code",
   "execution_count": null,
   "metadata": {},
   "outputs": [],
   "source": [
    "import os\n",
    "import json\n",
    "from collections import defaultdict\n",
    "import random\n",
    "import numpy as np\n",
    "import pandas as pd\n",
    "from sklearn.metrics import accuracy_score, precision_score, recall_score, f1_score, roc_auc_score, roc_curve\n",
    "from sklearn.model_selection import train_test_split\n",
    "from tqdm import tqdm\n",
    "import torch\n",
    "import deepchem as dc\n",
    "from deepchem.models import GCNModel\n",
    "import optuna\n",
    "from optuna.pruners import SuccessiveHalvingPruner"
   ]
  },
  {
   "cell_type": "code",
   "execution_count": null,
   "metadata": {},
   "outputs": [],
   "source": [
    "def set_seed(seed):\n",
    "    random.seed(seed)\n",
    "    np.random.seed(seed)\n",
    "    torch.manual_seed(seed)\n",
    "    torch.cuda.manual_seed_all(seed)\n",
    "    torch.backends.cudnn.deterministic = True\n",
    "    torch.backends.cudnn.benchmark = False\n",
    "\n",
    "set_seed(42)"
   ]
  },
  {
   "cell_type": "code",
   "execution_count": null,
   "metadata": {},
   "outputs": [],
   "source": [
    "device = torch.device('cuda' if torch.cuda.is_available() else 'cpu')\n",
    "device"
   ]
  },
  {
   "cell_type": "code",
   "execution_count": null,
   "metadata": {},
   "outputs": [],
   "source": [
    "ch = \"GO:0006281\"\n",
    "ch_dir = ch.replace(\":\", \"\")"
   ]
  },
  {
   "cell_type": "code",
   "execution_count": null,
   "metadata": {},
   "outputs": [],
   "source": [
    "def evaluate_metrics(dataset, model):\n",
    "    y_true = dataset.y\n",
    "    y_pred = model.predict(dataset)\n",
    "    y_pred_binary = (y_pred[:, 1] > 0.5).astype(int)\n",
    "    \n",
    "    accuracy = accuracy_score(y_true, y_pred_binary)\n",
    "    precision = precision_score(y_true, y_pred_binary)\n",
    "    recall = recall_score(y_true, y_pred_binary)\n",
    "    f1 = f1_score(y_true, y_pred_binary)\n",
    "    roc_auc = roc_auc_score(y_true, y_pred[:, 1])\n",
    "    \n",
    "    # Get the data needed for plotting the ROC curve\n",
    "    fpr, tpr, thresholds = roc_curve(y_true, y_pred[:, 1])\n",
    "    \n",
    "    return {\n",
    "        'Accuracy': accuracy,\n",
    "        'Precision': precision,\n",
    "        'Recall': recall,\n",
    "        'F1 Score': f1,\n",
    "        'ROC AUC': roc_auc,\n",
    "        'ROC Curve Data': {'FPR': fpr, 'TPR': tpr, 'Thresholds': thresholds}\n",
    "    }"
   ]
  },
  {
   "cell_type": "code",
   "execution_count": null,
   "metadata": {},
   "outputs": [],
   "source": [
    "df = pd.read_csv(\"pqqgnn/raw/training0827v1-remove.csv\")\n",
    "df"
   ]
  },
  {
   "cell_type": "code",
   "execution_count": null,
   "metadata": {},
   "outputs": [],
   "source": [
    "from sklearn.utils import resample\n",
    "\n",
    "\n",
    "df_minority = df[df[ch]==1]\n",
    "df_majority = df[df[ch]==0]\n",
    "\n",
    "# Resample the majority class to match the minority class\n",
    "df_majority_downsampled = resample(df_majority, \n",
    "                                   replace=False,    # sample without replacement\n",
    "                                   n_samples=len(df_minority),  # to match minority class\n",
    "                                   random_state=123) # reproducible results\n",
    "\n",
    "# Combine minority class with downsampled majority class\n",
    "df_balanced = pd.concat([df_majority_downsampled, df_minority])\n",
    "\n",
    "df_balanced"
   ]
  },
  {
   "cell_type": "code",
   "execution_count": null,
   "metadata": {},
   "outputs": [],
   "source": [
    "df = df_balanced"
   ]
  },
  {
   "cell_type": "code",
   "execution_count": null,
   "metadata": {},
   "outputs": [],
   "source": [
    "X_feed = df[\"SMILES\"].values\n",
    "X_feed"
   ]
  },
  {
   "cell_type": "code",
   "execution_count": null,
   "metadata": {},
   "outputs": [],
   "source": [
    "y = df[ch].values\n",
    "y"
   ]
  },
  {
   "cell_type": "code",
   "execution_count": null,
   "metadata": {},
   "outputs": [],
   "source": [
    "X_test_feed = df_test[\"SMILES\"].values\n",
    "X_test_feed"
   ]
  },
  {
   "cell_type": "code",
   "execution_count": null,
   "metadata": {},
   "outputs": [],
   "source": [
    "featurizer = dc.feat.MolGraphConvFeaturizer()\n",
    "X_featurized = featurizer.featurize(X_feed)"
   ]
  },
  {
   "cell_type": "code",
   "execution_count": null,
   "metadata": {},
   "outputs": [],
   "source": [
    "X_train, X_val, y_train, y_val = train_test_split(X_featurized, y, test_size=0.2, stratify=y, random_state=42)\n",
    "\n",
    "train_dataset = dc.data.NumpyDataset(X=X_train, y=y_train)\n",
    "val_dataset = dc.data.NumpyDataset(X=X_val, y=y_val)"
   ]
  },
  {
   "cell_type": "code",
   "execution_count": null,
   "metadata": {},
   "outputs": [],
   "source": [
    "def objective(trial):\n",
    "    # 1. Define hyperparameters using trial object\n",
    "    dropout_rate = trial.suggest_float(\"dropout_rate\", 0, 0.5)\n",
    "    predictor_dropout = trial.suggest_float(\"predictor_dropout\", 0, 0.5)\n",
    "    predictor_hidden_feats = trial.suggest_int(\"predictor_hidden_feats\", 32, 256, log=True)\n",
    "    \n",
    "    n_layers = trial.suggest_int(\"n_layers\", 1, 3)\n",
    "    graph_conv_layers = [trial.suggest_int(f\"layer_{i}_units\", 32, 128) for i in range(n_layers)]\n",
    "    \n",
    "    # 2. Create the GCN model with the suggested hyperparameters\n",
    "    model = GCNModel(\n",
    "        model_dir=f'tmp_model_{trial.number}',\n",
    "        n_tasks=1,\n",
    "        graph_conv_layers=graph_conv_layers,\n",
    "        activation=None,\n",
    "        residual=True,\n",
    "        batchnorm=True,\n",
    "        dropout=dropout_rate,\n",
    "        predictor_hidden_feats=predictor_hidden_feats,\n",
    "        predictor_dropout=predictor_dropout,\n",
    "        mode='classification',\n",
    "        number_atom_features=30,\n",
    "        n_classes=2,\n",
    "        self_loop=True,\n",
    "        device=device\n",
    "    )\n",
    "    \n",
    "    # 3. Train the model for 20 epochs (or until early stopping criterion is met)\n",
    "    for epoch in range(10):\n",
    "        model.fit(train_dataset, nb_epoch=1)\n",
    "        \n",
    "        # Evaluate and report the validation performance for potential early stopping\n",
    "        val_metrics = evaluate_metrics(val_dataset, model)\n",
    "        trial.report(val_metrics['ROC AUC'], epoch)\n",
    "        \n",
    "        # Handle pruning\n",
    "        if trial.should_prune():\n",
    "            raise optuna.exceptions.TrialPruned()\n",
    "    \n",
    "    return val_metrics['ROC AUC']"
   ]
  },
  {
   "cell_type": "code",
   "execution_count": null,
   "metadata": {},
   "outputs": [],
   "source": [
    "# Define the study\n",
    "pruner = SuccessiveHalvingPruner()\n",
    "study = optuna.create_study(direction='maximize', pruner=pruner, sampler=optuna.samplers.TPESampler())\n",
    "\n",
    "# Optimize the study, the objective function is passed in as the first argument\n",
    "study.optimize(objective, n_trials=150)"
   ]
  },
  {
   "cell_type": "code",
   "execution_count": null,
   "metadata": {},
   "outputs": [],
   "source": [
    "# Print the result\n",
    "best_params = study.best_params\n",
    "best_score = study.best_value\n",
    "print(f\"Best parameters: {best_params}\")\n",
    "print(f\"Best ROC AUC: {best_score}\")"
   ]
  },
  {
   "cell_type": "code",
   "execution_count": null,
   "metadata": {},
   "outputs": [],
   "source": []
  }
 ],
 "metadata": {
  "kernelspec": {
   "display_name": "venv",
   "language": "python",
   "name": "python3"
  },
  "language_info": {
   "codemirror_mode": {
    "name": "ipython",
    "version": 3
   },
   "file_extension": ".py",
   "mimetype": "text/x-python",
   "name": "python",
   "nbconvert_exporter": "python",
   "pygments_lexer": "ipython3",
   "version": "3.10.11"
  },
  "orig_nbformat": 4
 },
 "nbformat": 4,
 "nbformat_minor": 2
}
